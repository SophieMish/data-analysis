{
 "cells": [
  {
   "cell_type": "code",
   "execution_count": 2,
   "metadata": {},
   "outputs": [
    {
     "name": "stdout",
     "output_type": "stream",
     "text": [
      "Exercise #1\n",
      "\n"
     ]
    },
    {
     "ename": "NameError",
     "evalue": "name 'mult' is not defined",
     "output_type": "error",
     "traceback": [
      "\u001b[0;31m---------------------------------------------------------------------------\u001b[0m",
      "\u001b[0;31mNameError\u001b[0m                                 Traceback (most recent call last)",
      "\u001b[0;32m<ipython-input-2-7655449f824f>\u001b[0m in \u001b[0;36m<module>\u001b[0;34m\u001b[0m\n\u001b[1;32m     29\u001b[0m \u001b[0;34m\u001b[0m\u001b[0m\n\u001b[1;32m     30\u001b[0m \u001b[0mprint\u001b[0m\u001b[0;34m(\u001b[0m\u001b[0;34m\"Exercise #1\\n\"\u001b[0m\u001b[0;34m)\u001b[0m\u001b[0;34m\u001b[0m\u001b[0;34m\u001b[0m\u001b[0m\n\u001b[0;32m---> 31\u001b[0;31m \u001b[0mexecTime\u001b[0m \u001b[0;34m=\u001b[0m \u001b[0mmeasure_time\u001b[0m\u001b[0;34m(\u001b[0m\u001b[0mmult\u001b[0m\u001b[0;34m,\u001b[0m \u001b[0mcount\u001b[0m\u001b[0;34m,\u001b[0m \u001b[0mmyArray1\u001b[0m\u001b[0;34m,\u001b[0m \u001b[0mmyArray2\u001b[0m\u001b[0;34m)\u001b[0m\u001b[0;34m\u001b[0m\u001b[0;34m\u001b[0m\u001b[0m\n\u001b[0m\u001b[1;32m     32\u001b[0m \u001b[0mprint\u001b[0m\u001b[0;34m(\u001b[0m\u001b[0;34mf'Average time for my_mult is {execTime} milisec.'\u001b[0m\u001b[0;34m)\u001b[0m\u001b[0;34m\u001b[0m\u001b[0;34m\u001b[0m\u001b[0m\n\u001b[1;32m     33\u001b[0m \u001b[0mexecTime\u001b[0m \u001b[0;34m=\u001b[0m \u001b[0mmeasure_time\u001b[0m\u001b[0;34m(\u001b[0m\u001b[0mstandart_mult\u001b[0m\u001b[0;34m,\u001b[0m \u001b[0mcount\u001b[0m\u001b[0;34m,\u001b[0m \u001b[0mmyArray1\u001b[0m\u001b[0;34m,\u001b[0m \u001b[0mmyArray2\u001b[0m\u001b[0;34m)\u001b[0m\u001b[0;34m\u001b[0m\u001b[0;34m\u001b[0m\u001b[0m\n",
      "\u001b[0;31mNameError\u001b[0m: name 'mult' is not defined"
     ]
    }
   ],
   "source": [
    "import numpy as np\n",
    "from time import time\n",
    "\n",
    "      \n",
    "def measure_time(func, count, arr1, arr2):\n",
    "    execTime = 0\n",
    "    for _ in range(count):\n",
    "        start = time()\n",
    "        func(arr1,arr2)\n",
    "        end = time()\n",
    "        execTime += (end - start) * 1000\n",
    "    execTime/=count\n",
    "    return execTime\n",
    "\n",
    "def standart_mult(arr1, arr2):\n",
    "    return arr1 * arr2;\n",
    "    \n",
    "\n",
    "def my_mult(arr1,arr2):\n",
    "    res = np.empty_like(arr1)\n",
    "    for i in range(len(arr1)):\n",
    "        \n",
    "        res[i] = arr1[i] * arr2[i]\n",
    "    return res\n",
    "\n",
    "myArray1 = np.random.randint(0, 30000, 10000)\n",
    "myArray2 = np.random.randint(0, 30000, 10000)\n",
    "count = 100\n",
    "\n",
    "print(\"Exercise #1\\n\")\n",
    "execTime = measure_time(mult, count, myArray1, myArray2)\n",
    "print(f'Average time for my_mult is {execTime} milisec.')\n",
    "execTime = measure_time(standart_mult, count, myArray1, myArray2)\n",
    "print(f'Average time for standart_mult is {execTime} milisec.')"
   ]
  },
  {
   "cell_type": "code",
   "execution_count": 39,
   "metadata": {},
   "outputs": [
    {
     "name": "stdout",
     "output_type": "stream",
     "text": [
      "Exercise #2\n",
      "\n",
      "Average time for my_matrix_mult is 11.242520809173584 milisec.\n",
      "Average time for np.dot is 0.01928567886352539 milisec.\n"
     ]
    }
   ],
   "source": [
    "\n",
    "def my_matrix_mult(matrix1,matrix2):\n",
    "    shape1 = matrix1.shape\n",
    "    shape2 = matrix2.shape\n",
    "    if len(shape1) == 1:\n",
    "        shape1 = (shape1[0], 1)\n",
    "    if len(shape2) == 1:\n",
    "        shape2 = (shape2[0], 1)\n",
    "    if (shape1[1] != shape2[0]):\n",
    "        raise ValueError(\"The matrix dimensions don't match\")\n",
    "    res = np.zeros((shape1[0], shape2[1]))\n",
    "    for i in range(shape1[0]):\n",
    "        for j in range(shape2[1]):\n",
    "            for k in range(shape1[1]):\n",
    "                res[i,j] += matrix1[i,k] * matrix2[k,j]\n",
    "    return res\n",
    "\n",
    "\n",
    "matrix1 = np.random.randint(0, 30000,(30, 50))\n",
    "matrix2 = np.random.randint(0, 30000,(50, 10))\n",
    "execTime = measure_time(my_matrix_mult,100,matrix1,matrix2)\n",
    "print(\"Exercise #2\\n\")\n",
    "print(f'Average time for my_matrix_mult is {execTime} milisec.')\n",
    "execTime = measure_time(np.dot,100,matrix1,matrix2)\n",
    "print(f'Average time for np.dot is {execTime} milisec.')\n",
    "# print(my_matrix_mult(matrix1,matrix2),my_matrix_mult(matrix1,matrix2).shape)"
   ]
  },
  {
   "cell_type": "code",
   "execution_count": 96,
   "metadata": {},
   "outputs": [
    {
     "data": {
      "text/plain": [
       "1.8214285714285714"
      ]
     },
     "execution_count": 96,
     "metadata": {},
     "output_type": "execute_result"
    }
   ],
   "source": [
    "def random_game():\n",
    "    game_field = np.zeros((3,3))\n",
    "    def check_win():\n",
    "        if any(abs(game_field.sum(axis=0)) == 3):\n",
    "            return True\n",
    "        \n",
    "        if any(abs(game_field.sum(axis=1)) == 3):\n",
    "            return True\n",
    "        \n",
    "        if abs(np.diag(game_field).sum()) == 3:\n",
    "            return True\n",
    "        \n",
    "        if abs(np.diag(game_field, k=-1).sum()) == 3:\n",
    "            return True\n",
    "        \n",
    "        return False\n",
    "    \n",
    "    def is_tie():\n",
    "        return (game_field != 0).all()\n",
    "    \n",
    "    def choose_random_cell():\n",
    "        if is_tie():\n",
    "            return None\n",
    "        row = random.randint(0,2)\n",
    "        column = random.randint(0,2)\n",
    "        if (game_field[row,column] == 0):\n",
    "            return (row, column)\n",
    "        else:\n",
    "            return choose_random_cell()\n",
    "    \n",
    "    current_move = 1\n",
    "    while True:\n",
    "        if check_win():\n",
    "            return -current_move\n",
    "        cell = choose_random_cell()\n",
    "        if cell is None:\n",
    "            return 0\n",
    "        row, col = cell\n",
    "        game_field[row, col] = current_move\n",
    "        current_move = -current_move\n",
    "\n",
    "\n",
    "winners = []\n",
    "for _ in range(100):\n",
    "    winners.append(random_game())\n",
    "\n",
    "winners = np.array(winners)\n",
    "(winners == 1).sum() / (winners == -1).sum()\n",
    "    "
   ]
  },
  {
   "cell_type": "code",
   "execution_count": null,
   "metadata": {},
   "outputs": [],
   "source": []
  }
 ],
 "metadata": {
  "kernelspec": {
   "display_name": "Python 3",
   "language": "python",
   "name": "python3"
  },
  "language_info": {
   "codemirror_mode": {
    "name": "ipython",
    "version": 3
   },
   "file_extension": ".py",
   "mimetype": "text/x-python",
   "name": "python",
   "nbconvert_exporter": "python",
   "pygments_lexer": "ipython3",
   "version": "3.8.5"
  }
 },
 "nbformat": 4,
 "nbformat_minor": 4
}

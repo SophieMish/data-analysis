{
 "cells": [
  {
   "cell_type": "markdown",
   "metadata": {},
   "source": [
    "## Данные об игроках NBA "
   ]
  },
  {
   "cell_type": "code",
   "execution_count": 4,
   "metadata": {},
   "outputs": [],
   "source": [
    "import numpy as np\n",
    "import pandas as pd\n",
    "\n",
    "%matplotlib inline\n",
    "import matplotlib.pyplot as plt\n",
    "\n",
    "import seaborn as sns\n",
    "\n",
    "%matplotlib inline\n",
    "from matplotlib import pyplot as plt\n",
    "plt.style.use(['seaborn-darkgrid'])\n",
    "plt.rcParams['figure.figsize'] = (12, 9)\n",
    "plt.rcParams['font.family'] = 'DejaVu Sans'\n",
    "\n",
    "from sklearn import metrics\n",
    "from sklearn.cluster import KMeans, AgglomerativeClustering\n",
    "from sklearn.decomposition import PCA\n",
    "from sklearn.model_selection import GridSearchCV\n",
    "from sklearn.preprocessing import StandardScaler\n",
    "from sklearn.metrics import *\n",
    "from sklearn.cluster import DBSCAN\n",
    "\n",
    "import matplotlib.cm as cm\n",
    "from sklearn.manifold import TSNE"
   ]
  },
  {
   "cell_type": "code",
   "execution_count": 5,
   "metadata": {},
   "outputs": [
    {
     "data": {
      "text/html": [
       "<div>\n",
       "<style scoped>\n",
       "    .dataframe tbody tr th:only-of-type {\n",
       "        vertical-align: middle;\n",
       "    }\n",
       "\n",
       "    .dataframe tbody tr th {\n",
       "        vertical-align: top;\n",
       "    }\n",
       "\n",
       "    .dataframe thead th {\n",
       "        text-align: right;\n",
       "    }\n",
       "</style>\n",
       "<table border=\"1\" class=\"dataframe\">\n",
       "  <thead>\n",
       "    <tr style=\"text-align: right;\">\n",
       "      <th></th>\n",
       "      <th>player</th>\n",
       "      <th>pos</th>\n",
       "      <th>age</th>\n",
       "      <th>bref_team_id</th>\n",
       "      <th>g</th>\n",
       "      <th>gs</th>\n",
       "      <th>mp</th>\n",
       "      <th>fg</th>\n",
       "      <th>fga</th>\n",
       "      <th>fg.</th>\n",
       "      <th>...</th>\n",
       "      <th>drb</th>\n",
       "      <th>trb</th>\n",
       "      <th>ast</th>\n",
       "      <th>stl</th>\n",
       "      <th>blk</th>\n",
       "      <th>tov</th>\n",
       "      <th>pf</th>\n",
       "      <th>pts</th>\n",
       "      <th>season</th>\n",
       "      <th>season_end</th>\n",
       "    </tr>\n",
       "  </thead>\n",
       "  <tbody>\n",
       "    <tr>\n",
       "      <th>0</th>\n",
       "      <td>Quincy Acy</td>\n",
       "      <td>SF</td>\n",
       "      <td>23</td>\n",
       "      <td>TOT</td>\n",
       "      <td>63</td>\n",
       "      <td>0</td>\n",
       "      <td>847</td>\n",
       "      <td>66</td>\n",
       "      <td>141</td>\n",
       "      <td>0.468</td>\n",
       "      <td>...</td>\n",
       "      <td>144</td>\n",
       "      <td>216</td>\n",
       "      <td>28</td>\n",
       "      <td>23</td>\n",
       "      <td>26</td>\n",
       "      <td>30</td>\n",
       "      <td>122</td>\n",
       "      <td>171</td>\n",
       "      <td>2013-2014</td>\n",
       "      <td>2013</td>\n",
       "    </tr>\n",
       "    <tr>\n",
       "      <th>1</th>\n",
       "      <td>Steven Adams</td>\n",
       "      <td>C</td>\n",
       "      <td>20</td>\n",
       "      <td>OKC</td>\n",
       "      <td>81</td>\n",
       "      <td>20</td>\n",
       "      <td>1197</td>\n",
       "      <td>93</td>\n",
       "      <td>185</td>\n",
       "      <td>0.503</td>\n",
       "      <td>...</td>\n",
       "      <td>190</td>\n",
       "      <td>332</td>\n",
       "      <td>43</td>\n",
       "      <td>40</td>\n",
       "      <td>57</td>\n",
       "      <td>71</td>\n",
       "      <td>203</td>\n",
       "      <td>265</td>\n",
       "      <td>2013-2014</td>\n",
       "      <td>2013</td>\n",
       "    </tr>\n",
       "    <tr>\n",
       "      <th>2</th>\n",
       "      <td>Jeff Adrien</td>\n",
       "      <td>PF</td>\n",
       "      <td>27</td>\n",
       "      <td>TOT</td>\n",
       "      <td>53</td>\n",
       "      <td>12</td>\n",
       "      <td>961</td>\n",
       "      <td>143</td>\n",
       "      <td>275</td>\n",
       "      <td>0.520</td>\n",
       "      <td>...</td>\n",
       "      <td>204</td>\n",
       "      <td>306</td>\n",
       "      <td>38</td>\n",
       "      <td>24</td>\n",
       "      <td>36</td>\n",
       "      <td>39</td>\n",
       "      <td>108</td>\n",
       "      <td>362</td>\n",
       "      <td>2013-2014</td>\n",
       "      <td>2013</td>\n",
       "    </tr>\n",
       "    <tr>\n",
       "      <th>3</th>\n",
       "      <td>Arron Afflalo</td>\n",
       "      <td>SG</td>\n",
       "      <td>28</td>\n",
       "      <td>ORL</td>\n",
       "      <td>73</td>\n",
       "      <td>73</td>\n",
       "      <td>2552</td>\n",
       "      <td>464</td>\n",
       "      <td>1011</td>\n",
       "      <td>0.459</td>\n",
       "      <td>...</td>\n",
       "      <td>230</td>\n",
       "      <td>262</td>\n",
       "      <td>248</td>\n",
       "      <td>35</td>\n",
       "      <td>3</td>\n",
       "      <td>146</td>\n",
       "      <td>136</td>\n",
       "      <td>1330</td>\n",
       "      <td>2013-2014</td>\n",
       "      <td>2013</td>\n",
       "    </tr>\n",
       "    <tr>\n",
       "      <th>4</th>\n",
       "      <td>Alexis Ajinca</td>\n",
       "      <td>C</td>\n",
       "      <td>25</td>\n",
       "      <td>NOP</td>\n",
       "      <td>56</td>\n",
       "      <td>30</td>\n",
       "      <td>951</td>\n",
       "      <td>136</td>\n",
       "      <td>249</td>\n",
       "      <td>0.546</td>\n",
       "      <td>...</td>\n",
       "      <td>183</td>\n",
       "      <td>277</td>\n",
       "      <td>40</td>\n",
       "      <td>23</td>\n",
       "      <td>46</td>\n",
       "      <td>63</td>\n",
       "      <td>187</td>\n",
       "      <td>328</td>\n",
       "      <td>2013-2014</td>\n",
       "      <td>2013</td>\n",
       "    </tr>\n",
       "  </tbody>\n",
       "</table>\n",
       "<p>5 rows × 31 columns</p>\n",
       "</div>"
      ],
      "text/plain": [
       "          player pos  age bref_team_id   g  gs    mp   fg   fga    fg.  ...  \\\n",
       "0     Quincy Acy  SF   23          TOT  63   0   847   66   141  0.468  ...   \n",
       "1   Steven Adams   C   20          OKC  81  20  1197   93   185  0.503  ...   \n",
       "2    Jeff Adrien  PF   27          TOT  53  12   961  143   275  0.520  ...   \n",
       "3  Arron Afflalo  SG   28          ORL  73  73  2552  464  1011  0.459  ...   \n",
       "4  Alexis Ajinca   C   25          NOP  56  30   951  136   249  0.546  ...   \n",
       "\n",
       "   drb  trb  ast  stl  blk  tov   pf   pts     season  season_end  \n",
       "0  144  216   28   23   26   30  122   171  2013-2014        2013  \n",
       "1  190  332   43   40   57   71  203   265  2013-2014        2013  \n",
       "2  204  306   38   24   36   39  108   362  2013-2014        2013  \n",
       "3  230  262  248   35    3  146  136  1330  2013-2014        2013  \n",
       "4  183  277   40   23   46   63  187   328  2013-2014        2013  \n",
       "\n",
       "[5 rows x 31 columns]"
      ]
     },
     "execution_count": 5,
     "metadata": {},
     "output_type": "execute_result"
    }
   ],
   "source": [
    "nba = pd.read_csv(\"nba_2013.csv\")\n",
    "nba.head()"
   ]
  },
  {
   "cell_type": "code",
   "execution_count": 6,
   "metadata": {},
   "outputs": [],
   "source": [
    "#оставляем только числовые признаки\n",
    "nba = nba[['age','g', 'gs', 'mp', 'fg', 'fga',\n",
    "       'fg.', 'x3p', 'x3pa', 'x3p.', 'x2p', 'x2pa', 'x2p.', 'efg.', 'ft',\n",
    "       'fta', 'ft.', 'orb', 'drb', 'trb', 'ast', 'stl', 'blk', 'tov', 'pf','pts']] "
   ]
  },
  {
   "cell_type": "code",
   "execution_count": 7,
   "metadata": {},
   "outputs": [
    {
     "data": {
      "text/html": [
       "<div>\n",
       "<style scoped>\n",
       "    .dataframe tbody tr th:only-of-type {\n",
       "        vertical-align: middle;\n",
       "    }\n",
       "\n",
       "    .dataframe tbody tr th {\n",
       "        vertical-align: top;\n",
       "    }\n",
       "\n",
       "    .dataframe thead th {\n",
       "        text-align: right;\n",
       "    }\n",
       "</style>\n",
       "<table border=\"1\" class=\"dataframe\">\n",
       "  <thead>\n",
       "    <tr style=\"text-align: right;\">\n",
       "      <th></th>\n",
       "      <th>age</th>\n",
       "      <th>g</th>\n",
       "      <th>gs</th>\n",
       "      <th>mp</th>\n",
       "      <th>fg</th>\n",
       "      <th>fga</th>\n",
       "      <th>fg.</th>\n",
       "      <th>x3p</th>\n",
       "      <th>x3pa</th>\n",
       "      <th>x3p.</th>\n",
       "      <th>...</th>\n",
       "      <th>ft.</th>\n",
       "      <th>orb</th>\n",
       "      <th>drb</th>\n",
       "      <th>trb</th>\n",
       "      <th>ast</th>\n",
       "      <th>stl</th>\n",
       "      <th>blk</th>\n",
       "      <th>tov</th>\n",
       "      <th>pf</th>\n",
       "      <th>pts</th>\n",
       "    </tr>\n",
       "  </thead>\n",
       "  <tbody>\n",
       "    <tr>\n",
       "      <th>count</th>\n",
       "      <td>481.000000</td>\n",
       "      <td>481.000000</td>\n",
       "      <td>481.000000</td>\n",
       "      <td>481.000000</td>\n",
       "      <td>481.000000</td>\n",
       "      <td>481.000000</td>\n",
       "      <td>479.000000</td>\n",
       "      <td>481.000000</td>\n",
       "      <td>481.000000</td>\n",
       "      <td>414.000000</td>\n",
       "      <td>...</td>\n",
       "      <td>461.000000</td>\n",
       "      <td>481.000000</td>\n",
       "      <td>481.000000</td>\n",
       "      <td>481.000000</td>\n",
       "      <td>481.000000</td>\n",
       "      <td>481.000000</td>\n",
       "      <td>481.000000</td>\n",
       "      <td>481.000000</td>\n",
       "      <td>481.000000</td>\n",
       "      <td>481.000000</td>\n",
       "    </tr>\n",
       "    <tr>\n",
       "      <th>mean</th>\n",
       "      <td>26.509356</td>\n",
       "      <td>53.253638</td>\n",
       "      <td>25.571726</td>\n",
       "      <td>1237.386694</td>\n",
       "      <td>192.881497</td>\n",
       "      <td>424.463617</td>\n",
       "      <td>0.436436</td>\n",
       "      <td>39.613306</td>\n",
       "      <td>110.130977</td>\n",
       "      <td>0.285111</td>\n",
       "      <td>...</td>\n",
       "      <td>0.722419</td>\n",
       "      <td>55.810811</td>\n",
       "      <td>162.817048</td>\n",
       "      <td>218.627859</td>\n",
       "      <td>112.536383</td>\n",
       "      <td>39.280665</td>\n",
       "      <td>24.103950</td>\n",
       "      <td>71.862786</td>\n",
       "      <td>105.869023</td>\n",
       "      <td>516.582121</td>\n",
       "    </tr>\n",
       "    <tr>\n",
       "      <th>std</th>\n",
       "      <td>4.198265</td>\n",
       "      <td>25.322711</td>\n",
       "      <td>29.658465</td>\n",
       "      <td>897.258840</td>\n",
       "      <td>171.832793</td>\n",
       "      <td>368.850833</td>\n",
       "      <td>0.098672</td>\n",
       "      <td>50.855639</td>\n",
       "      <td>132.751732</td>\n",
       "      <td>0.157633</td>\n",
       "      <td>...</td>\n",
       "      <td>0.160166</td>\n",
       "      <td>62.101191</td>\n",
       "      <td>145.348116</td>\n",
       "      <td>200.356507</td>\n",
       "      <td>131.019557</td>\n",
       "      <td>34.783590</td>\n",
       "      <td>30.875381</td>\n",
       "      <td>62.701690</td>\n",
       "      <td>71.213627</td>\n",
       "      <td>470.422228</td>\n",
       "    </tr>\n",
       "    <tr>\n",
       "      <th>min</th>\n",
       "      <td>19.000000</td>\n",
       "      <td>1.000000</td>\n",
       "      <td>0.000000</td>\n",
       "      <td>1.000000</td>\n",
       "      <td>0.000000</td>\n",
       "      <td>0.000000</td>\n",
       "      <td>0.000000</td>\n",
       "      <td>0.000000</td>\n",
       "      <td>0.000000</td>\n",
       "      <td>0.000000</td>\n",
       "      <td>...</td>\n",
       "      <td>0.000000</td>\n",
       "      <td>0.000000</td>\n",
       "      <td>0.000000</td>\n",
       "      <td>0.000000</td>\n",
       "      <td>0.000000</td>\n",
       "      <td>0.000000</td>\n",
       "      <td>0.000000</td>\n",
       "      <td>0.000000</td>\n",
       "      <td>0.000000</td>\n",
       "      <td>0.000000</td>\n",
       "    </tr>\n",
       "    <tr>\n",
       "      <th>25%</th>\n",
       "      <td>23.000000</td>\n",
       "      <td>32.000000</td>\n",
       "      <td>0.000000</td>\n",
       "      <td>388.000000</td>\n",
       "      <td>47.000000</td>\n",
       "      <td>110.000000</td>\n",
       "      <td>0.400500</td>\n",
       "      <td>0.000000</td>\n",
       "      <td>3.000000</td>\n",
       "      <td>0.234355</td>\n",
       "      <td>...</td>\n",
       "      <td>0.654000</td>\n",
       "      <td>12.000000</td>\n",
       "      <td>43.000000</td>\n",
       "      <td>55.000000</td>\n",
       "      <td>20.000000</td>\n",
       "      <td>9.000000</td>\n",
       "      <td>4.000000</td>\n",
       "      <td>21.000000</td>\n",
       "      <td>44.000000</td>\n",
       "      <td>115.000000</td>\n",
       "    </tr>\n",
       "    <tr>\n",
       "      <th>50%</th>\n",
       "      <td>26.000000</td>\n",
       "      <td>61.000000</td>\n",
       "      <td>10.000000</td>\n",
       "      <td>1141.000000</td>\n",
       "      <td>146.000000</td>\n",
       "      <td>332.000000</td>\n",
       "      <td>0.438000</td>\n",
       "      <td>16.000000</td>\n",
       "      <td>48.000000</td>\n",
       "      <td>0.330976</td>\n",
       "      <td>...</td>\n",
       "      <td>0.751000</td>\n",
       "      <td>35.000000</td>\n",
       "      <td>135.000000</td>\n",
       "      <td>168.000000</td>\n",
       "      <td>65.000000</td>\n",
       "      <td>32.000000</td>\n",
       "      <td>14.000000</td>\n",
       "      <td>58.000000</td>\n",
       "      <td>104.000000</td>\n",
       "      <td>401.000000</td>\n",
       "    </tr>\n",
       "    <tr>\n",
       "      <th>75%</th>\n",
       "      <td>29.000000</td>\n",
       "      <td>76.000000</td>\n",
       "      <td>54.000000</td>\n",
       "      <td>2016.000000</td>\n",
       "      <td>307.000000</td>\n",
       "      <td>672.000000</td>\n",
       "      <td>0.479500</td>\n",
       "      <td>68.000000</td>\n",
       "      <td>193.000000</td>\n",
       "      <td>0.375000</td>\n",
       "      <td>...</td>\n",
       "      <td>0.821000</td>\n",
       "      <td>73.000000</td>\n",
       "      <td>230.000000</td>\n",
       "      <td>310.000000</td>\n",
       "      <td>152.000000</td>\n",
       "      <td>60.000000</td>\n",
       "      <td>32.000000</td>\n",
       "      <td>108.000000</td>\n",
       "      <td>158.000000</td>\n",
       "      <td>821.000000</td>\n",
       "    </tr>\n",
       "    <tr>\n",
       "      <th>max</th>\n",
       "      <td>39.000000</td>\n",
       "      <td>83.000000</td>\n",
       "      <td>82.000000</td>\n",
       "      <td>3122.000000</td>\n",
       "      <td>849.000000</td>\n",
       "      <td>1688.000000</td>\n",
       "      <td>1.000000</td>\n",
       "      <td>261.000000</td>\n",
       "      <td>615.000000</td>\n",
       "      <td>1.000000</td>\n",
       "      <td>...</td>\n",
       "      <td>1.000000</td>\n",
       "      <td>440.000000</td>\n",
       "      <td>783.000000</td>\n",
       "      <td>1114.000000</td>\n",
       "      <td>721.000000</td>\n",
       "      <td>191.000000</td>\n",
       "      <td>219.000000</td>\n",
       "      <td>295.000000</td>\n",
       "      <td>273.000000</td>\n",
       "      <td>2593.000000</td>\n",
       "    </tr>\n",
       "  </tbody>\n",
       "</table>\n",
       "<p>8 rows × 26 columns</p>\n",
       "</div>"
      ],
      "text/plain": [
       "              age           g          gs           mp          fg  \\\n",
       "count  481.000000  481.000000  481.000000   481.000000  481.000000   \n",
       "mean    26.509356   53.253638   25.571726  1237.386694  192.881497   \n",
       "std      4.198265   25.322711   29.658465   897.258840  171.832793   \n",
       "min     19.000000    1.000000    0.000000     1.000000    0.000000   \n",
       "25%     23.000000   32.000000    0.000000   388.000000   47.000000   \n",
       "50%     26.000000   61.000000   10.000000  1141.000000  146.000000   \n",
       "75%     29.000000   76.000000   54.000000  2016.000000  307.000000   \n",
       "max     39.000000   83.000000   82.000000  3122.000000  849.000000   \n",
       "\n",
       "               fga         fg.         x3p        x3pa        x3p.  ...  \\\n",
       "count   481.000000  479.000000  481.000000  481.000000  414.000000  ...   \n",
       "mean    424.463617    0.436436   39.613306  110.130977    0.285111  ...   \n",
       "std     368.850833    0.098672   50.855639  132.751732    0.157633  ...   \n",
       "min       0.000000    0.000000    0.000000    0.000000    0.000000  ...   \n",
       "25%     110.000000    0.400500    0.000000    3.000000    0.234355  ...   \n",
       "50%     332.000000    0.438000   16.000000   48.000000    0.330976  ...   \n",
       "75%     672.000000    0.479500   68.000000  193.000000    0.375000  ...   \n",
       "max    1688.000000    1.000000  261.000000  615.000000    1.000000  ...   \n",
       "\n",
       "              ft.         orb         drb          trb         ast  \\\n",
       "count  461.000000  481.000000  481.000000   481.000000  481.000000   \n",
       "mean     0.722419   55.810811  162.817048   218.627859  112.536383   \n",
       "std      0.160166   62.101191  145.348116   200.356507  131.019557   \n",
       "min      0.000000    0.000000    0.000000     0.000000    0.000000   \n",
       "25%      0.654000   12.000000   43.000000    55.000000   20.000000   \n",
       "50%      0.751000   35.000000  135.000000   168.000000   65.000000   \n",
       "75%      0.821000   73.000000  230.000000   310.000000  152.000000   \n",
       "max      1.000000  440.000000  783.000000  1114.000000  721.000000   \n",
       "\n",
       "              stl         blk         tov          pf          pts  \n",
       "count  481.000000  481.000000  481.000000  481.000000   481.000000  \n",
       "mean    39.280665   24.103950   71.862786  105.869023   516.582121  \n",
       "std     34.783590   30.875381   62.701690   71.213627   470.422228  \n",
       "min      0.000000    0.000000    0.000000    0.000000     0.000000  \n",
       "25%      9.000000    4.000000   21.000000   44.000000   115.000000  \n",
       "50%     32.000000   14.000000   58.000000  104.000000   401.000000  \n",
       "75%     60.000000   32.000000  108.000000  158.000000   821.000000  \n",
       "max    191.000000  219.000000  295.000000  273.000000  2593.000000  \n",
       "\n",
       "[8 rows x 26 columns]"
      ]
     },
     "execution_count": 7,
     "metadata": {},
     "output_type": "execute_result"
    }
   ],
   "source": [
    "nba.describe()"
   ]
  },
  {
   "cell_type": "markdown",
   "metadata": {},
   "source": [
    "#### Расшифровка некоторых колонок:\n",
    "\n",
    "player — name of the player\n",
    "\n",
    "pos — the position of the player\n",
    "\n",
    "g — number of games the player was in\n",
    "\n",
    "gs — number of games the player started\n",
    "\n",
    "pts — total points the player scored\n",
    "\n",
    "ast - the total number of assists the player had in the season.\n",
    "\n",
    "fg. - the player's field goal percentage for the season.\n",
    "\n",
    "подробнее об остальных https://www.basketball-reference.com/about/glossary.html "
   ]
  },
  {
   "cell_type": "markdown",
   "metadata": {},
   "source": [
    "## Задание\n",
    "\n",
    "\n",
    "1) Замените пропуски во всех колонках на медиану с помощью SimpleImputer  (Без этих преобразований алгоритмы кластеризации не будут работать из-за пропусков!)"
   ]
  },
  {
   "cell_type": "code",
   "execution_count": 2,
   "metadata": {},
   "outputs": [],
   "source": [
    "from sklearn.impute import SimpleImputer \n",
    "simp_imp = SimpleImputer(strategy=\"median\")\n"
   ]
  },
  {
   "cell_type": "markdown",
   "metadata": {},
   "source": [
    "2) Стандартизируйте все признаки с помощью MinMaxScaler"
   ]
  },
  {
   "cell_type": "code",
   "execution_count": 3,
   "metadata": {},
   "outputs": [],
   "source": [
    "from sklearn.preprocessing import MinMaxScaler\n",
    "scaler = MinMaxScaler()"
   ]
  },
  {
   "cell_type": "markdown",
   "metadata": {},
   "source": [
    "Будем работать с преобразованным датасетом.\n",
    "\n",
    "### Попробуйте кластеризовать данные при помощи KMeans\n",
    "\n",
    "1. Постройте график инерции (кол-во кластеров от 1 до 10)\n",
    "\n",
    "Определите по методу локтя оптимальное число кластеров"
   ]
  },
  {
   "cell_type": "code",
   "execution_count": 1,
   "metadata": {},
   "outputs": [],
   "source": [
    "#Ваш код здесь"
   ]
  },
  {
   "cell_type": "markdown",
   "metadata": {},
   "source": [
    "2. Постройте график силуета (silhoette_score) (кол-во кластеров от 1 до 10)\n"
   ]
  },
  {
   "cell_type": "code",
   "execution_count": 4,
   "metadata": {},
   "outputs": [],
   "source": [
    "#Ваш код здесь"
   ]
  },
  {
   "cell_type": "markdown",
   "metadata": {},
   "source": [
    "3. Постройте график силуета для каждого кластера отдельно, для этого воспользуйтесь функцией clusters_stats\n",
    "\n",
    "Пример вызова clusters_stats:"
   ]
  },
  {
   "cell_type": "code",
   "execution_count": 30,
   "metadata": {},
   "outputs": [],
   "source": [
    "def clusters_stats(n_clusters, clusters, X):\n",
    "    fig, ax1 = plt.subplots(1, 1)\n",
    "    ax1.set_xlim([-0.1, 1])\n",
    "    ax1.set_ylim([0, len(X) + (n_clusters + 1) * 10])\n",
    "\n",
    "    silhouette_avg = silhouette_score(X, clusters)\n",
    "    print(\"For n_clusters =\", n_clusters, \"The average silhouette_score is :\", silhouette_avg)\n",
    "\n",
    "    # Compute the silhouette scores for each sample\n",
    "    sample_silhouette_values = silhouette_samples(X, clusters)\n",
    "\n",
    "    y_lower = 10\n",
    "    for i in range(n_clusters):\n",
    "        # Aggregate the silhouette scores for samples belonging to\n",
    "        # cluster i, and sort them\n",
    "        ith_cluster_silhouette_values = \\\n",
    "            sample_silhouette_values[clusters == i]\n",
    "\n",
    "        ith_cluster_silhouette_values.sort()\n",
    "\n",
    "        size_cluster_i = ith_cluster_silhouette_values.shape[0]\n",
    "        y_upper = y_lower + size_cluster_i\n",
    "        \n",
    "        cmap = cm.get_cmap(\"Spectral\")\n",
    "        color = cmap(float(i) / n_clusters)\n",
    "        ax1.fill_betweenx(np.arange(y_lower, y_upper),\n",
    "                          0, ith_cluster_silhouette_values,\n",
    "                          facecolor=color, edgecolor=color, alpha=0.7)\n",
    "\n",
    "        # Label the silhouette plots with their cluster numbers at the middle\n",
    "        ax1.text(-0.05, y_lower + 0.5 * size_cluster_i, str(i))\n",
    "\n",
    "        # Compute the new y_lower for next plot\n",
    "        y_lower = y_upper + 10  # 10 for the 0 samples\n",
    "\n",
    "    ax1.set_title(\"The silhouette plot for the various clusters.\")\n",
    "    ax1.set_xlabel(\"The silhouette coefficient values\")\n",
    "    ax1.set_ylabel(\"Cluster label\")\n",
    "\n",
    "    # The vertical line for average silhouette score of all the values\n",
    "    ax1.axvline(x=silhouette_avg, color=\"red\", linestyle=\"--\")\n",
    "\n",
    "    ax1.set_yticks([])  # Clear the yaxis labels / ticks\n",
    "    ax1.set_xticks([-0.1, 0, 0.2, 0.4, 0.6, 0.8, 1])\n",
    "\n",
    "    plt.suptitle((\"Silhouette analysis for KMeans clustering on sample data \"\n",
    "                  \"with n_clusters = %d\" % n_clusters),\n",
    "                 fontsize=14, fontweight='bold')\n",
    "\n",
    "    plt.show()\n"
   ]
  },
  {
   "cell_type": "code",
   "execution_count": 63,
   "metadata": {},
   "outputs": [
    {
     "name": "stdout",
     "output_type": "stream",
     "text": [
      "For n_clusters = 3 The average silhouette_score is : 0.5075086666872486\n"
     ]
    },
    {
     "data": {
      "image/png": "[encoded data removed]",
      "text/plain": [
       "<Figure size 864x648 with 1 Axes>"
      ]
     },
     "metadata": {},
     "output_type": "display_data"
    }
   ],
   "source": [
    "n_clusters = 3\n",
    "kmeans = KMeans(n_clusters=n_clusters)\n",
    "kmeans.fit(nba)\n",
    "clusters = kmeans.predict(nba)\n",
    "clusters_stats(n_clusters, clusters,nba )"
   ]
  },
  {
   "cell_type": "code",
   "execution_count": 32,
   "metadata": {},
   "outputs": [],
   "source": [
    "#Ваш код здесь"
   ]
  },
  {
   "cell_type": "markdown",
   "metadata": {},
   "source": [
    "Проанализируйте полученный результат и определите оптимальное число кластеров. Чему оно равно?"
   ]
  },
  {
   "cell_type": "markdown",
   "metadata": {},
   "source": [
    "4. Уменьшите количество признаков в исходном датасете nba до 2 с помощью TSNE c параметром perplexity=30. Результат запишите в таблицу tsne_representation."
   ]
  },
  {
   "cell_type": "code",
   "execution_count": 6,
   "metadata": {},
   "outputs": [],
   "source": [
    "#Ваш код здесь"
   ]
  },
  {
   "cell_type": "markdown",
   "metadata": {},
   "source": [
    "5. Теперь обучите Kmeans еще раз задав оптимальное число кластеров. Визуализируйте полученное разбиение на преобразованном датасете tsne_representation (каждый из 2 \"сжатых\" признаков в таблице tsne_representation - это ось на графике). Пример визуализации:"
   ]
  },
  {
   "cell_type": "code",
   "execution_count": 48,
   "metadata": {},
   "outputs": [
    {
     "data": {
      "text/plain": [
       "<matplotlib.legend.Legend at 0x16166ae80>"
      ]
     },
     "execution_count": 48,
     "metadata": {},
     "output_type": "execute_result"
    },
    {
     "data": {
      "image/png": "[encoded data removed]",
      "text/plain": [
       "<Figure size 864x648 with 1 Axes>"
      ]
     },
     "metadata": {},
     "output_type": "display_data"
    }
   ],
   "source": [
    "colors = cm.rainbow(np.linspace(0, 1, len(set(km.labels_))))\n",
    "\n",
    "for y, c in zip(set(km.labels_), colors):\n",
    "    plt.scatter(pd.DataFrame(tsne_representation)[0].loc[pd.DataFrame(km.labels_).values==y], \n",
    "                pd.DataFrame(tsne_representation)[1].loc[pd.DataFrame(km.labels_).values==y], color=c, alpha=0.5, label=str(y))\n",
    "plt.legend()\n"
   ]
  },
  {
   "cell_type": "markdown",
   "metadata": {},
   "source": [
    "### Теперь попробуем метод DBScan\n",
    "\n",
    "1. Визуализируйте параметр eps в цикле для разных min_samples(от 3 до 10)\n",
    "\n",
    "Выберите оптимальное значение min_samples и eps. Eps определите по методы локтя. Min_samples выбирайте исходя из 2 критериев: чем меньше оптимальное eps - тем лучше, чем больше точек по оси Х остается (не записывается в выбросы) - тем лучше."
   ]
  },
  {
   "cell_type": "code",
   "execution_count": null,
   "metadata": {},
   "outputs": [],
   "source": [
    "#Ваш код здесь"
   ]
  },
  {
   "cell_type": "markdown",
   "metadata": {},
   "source": [
    "Проанализируйте полученный результат и определите оптимальное число кластеров. Чему оно равно?"
   ]
  },
  {
   "cell_type": "markdown",
   "metadata": {},
   "source": [
    "2. Теперь обучите DBScan еще раз, задав оптимальное число кластеров. Визуализируйте полученное разбиение на преобразованном датасете tsne_representation (каждый из 2 \"сжатых\" признаков в таблице tsne_representation - это ось на графике). Пример визуализации:"
   ]
  },
  {
   "cell_type": "code",
   "execution_count": 57,
   "metadata": {},
   "outputs": [
    {
     "data": {
      "text/plain": [
       "<matplotlib.legend.Legend at 0x162019490>"
      ]
     },
     "execution_count": 57,
     "metadata": {},
     "output_type": "execute_result"
    },
    {
     "data": {
      "image/png": "[encoded data removed]",
      "text/plain": [
       "<Figure size 864x648 with 1 Axes>"
      ]
     },
     "metadata": {},
     "output_type": "display_data"
    }
   ],
   "source": [
    "\n",
    "colors = cm.rainbow(np.linspace(0, 1, len(set(km.labels_))))\n",
    "\n",
    "for y, c in zip(set(db.labels_), colors):\n",
    "    plt.scatter(pd.DataFrame(tsne_representation)[0].loc[pd.DataFrame(db.labels_).values==y], \n",
    "                pd.DataFrame(tsne_representation)[1].loc[pd.DataFrame(db.labels_).values==y], color=c, alpha=0.5, label=str(y))\n",
    "plt.legend()\n"
   ]
  },
  {
   "cell_type": "code",
   "execution_count": null,
   "metadata": {},
   "outputs": [],
   "source": [
    "#Ваш код здесь"
   ]
  },
  {
   "cell_type": "markdown",
   "metadata": {},
   "source": [
    "Выделите топ-3 самых значимых признака игроков NBA на ваш взгляд. Можете придумать для этого свое математическое правило, например выделить топ признаков по разнице между минимальным и максимальным значениями.\n",
    "Попарно визуализируйте на графике эти признаки и метки классов (выберите labels_ наилучшего на ваш взгляд разбиения) - в примере выше вместо tsne_representation подставьте \n",
    "nba[['имя первого признака','имя второго признака']]"
   ]
  },
  {
   "cell_type": "code",
   "execution_count": null,
   "metadata": {},
   "outputs": [],
   "source": [
    "#Ваш код здесь"
   ]
  },
  {
   "cell_type": "markdown",
   "metadata": {},
   "source": [
    "Какая зависимоть наблюдется между классами и признаками игроков?"
   ]
  },
  {
   "cell_type": "code",
   "execution_count": null,
   "metadata": {},
   "outputs": [],
   "source": []
  }
 ],
 "metadata": {
  "kernelspec": {
   "display_name": "Python 3",
   "language": "python",
   "name": "python3"
  },
  "language_info": {
   "codemirror_mode": {
    "name": "ipython",
    "version": 3
   },
   "file_extension": ".py",
   "mimetype": "text/x-python",
   "name": "python",
   "nbconvert_exporter": "python",
   "pygments_lexer": "ipython3",
   "version": "3.8.5"
  }
 },
 "nbformat": 4,
 "nbformat_minor": 4
}

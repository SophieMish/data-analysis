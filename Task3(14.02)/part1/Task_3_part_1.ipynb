{
 "cells": [
  {
   "cell_type": "markdown",
   "metadata": {},
   "source": [
    "### Палиндром\n",
    "На вход подается число. Определите является ли оно палиндромом. Число является палиндромом, если прочитанное справа налево равно исходному числу.\n",
    "Примеры палиндромов:\n",
    "121, \n",
    "222,\n",
    "12121,"
   ]
  },
  {
   "cell_type": "code",
   "execution_count": 3,
   "metadata": {},
   "outputs": [
    {
     "name": "stdout",
     "output_type": "stream",
     "text": [
      "2563\n",
      "This is not palindrome\n"
     ]
    }
   ],
   "source": [
    "def definePalindrome (num):\n",
    "    r=0\n",
    "    p=num\n",
    "    while (num>0):\n",
    "        k=num%10\n",
    "        r=r*10+k\n",
    "        num=num//10\n",
    "    return r==p\n",
    "    \n",
    "num=int(input())\n",
    "if definePalindrome(num):\n",
    "    print(\"This is a palindrome \")\n",
    "else:\n",
    "    print(\"This is not a palindrome\")\n"
   ]
  },
  {
   "cell_type": "markdown",
   "metadata": {},
   "source": [
    "### Мини-судоку.\n",
    "Напишите функцию any_duplicates, которая принимает двумерный массив размера 3 на 3. Двумерный массив заполнен числами от 1 до 9.\n",
    "Функция должна вернуть False, если в массиве все числа от 1 до 9 встречаются ровно 1 раз. В противном случае True."
   ]
  },
  {
   "cell_type": "code",
   "execution_count": 45,
   "metadata": {},
   "outputs": [
    {
     "name": "stdout",
     "output_type": "stream",
     "text": [
      "[[1, 2, 3], [4, 5, 6], [7, 8, 9]]\n",
      "\n",
      " False\n"
     ]
    }
   ],
   "source": [
    "import numpy as np\n",
    "\n",
    "def any_duplicates(arr):\n",
    "    u, c = np.unique(arr, return_counts=True)\n",
    "    dup = u[c > 1]\n",
    "    if len(dup)==0:\n",
    "        return False\n",
    "    else:\n",
    "        return True\n",
    "\n",
    "\n",
    "# my_arr =  np.random.randint(10, size=(3, 3))\n",
    "my_arr = [[1,2,3],[4,5,6],[7,8,9]]\n",
    "print(my_arr)\n",
    "print('\\n',any_duplicates(my_arr))\n",
    "    \n",
    "    \n",
    "    \n",
    "    "
   ]
  }
 ],
 "metadata": {
  "kernelspec": {
   "display_name": "Python 3",
   "language": "python",
   "name": "python3"
  },
  "language_info": {
   "codemirror_mode": {
    "name": "ipython",
    "version": 3
   },
   "file_extension": ".py",
   "mimetype": "text/x-python",
   "name": "python",
   "nbconvert_exporter": "python",
   "pygments_lexer": "ipython3",
   "version": "3.8.5"
  }
 },
 "nbformat": 4,
 "nbformat_minor": 4
}

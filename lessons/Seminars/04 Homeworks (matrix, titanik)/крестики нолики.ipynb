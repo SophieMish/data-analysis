{
 "cells": [
  {
   "cell_type": "code",
   "execution_count": 28,
   "metadata": {},
   "outputs": [],
   "source": [
    "import numpy as np\n",
    "import pandas as pd\n",
    "import random\n",
    "import itertools"
   ]
  },
  {
   "cell_type": "code",
   "execution_count": 150,
   "metadata": {},
   "outputs": [
    {
     "name": "stdout",
     "output_type": "stream",
     "text": [
      "[[0. 0. 0.]\n",
      " [0. 0. 0.]\n",
      " [1. 0. 0.]]\n",
      "[[-1.  0.  0.]\n",
      " [ 0.  0.  0.]\n",
      " [ 1.  0.  0.]]\n",
      "[[-1.  0.  0.]\n",
      " [ 0.  0.  0.]\n",
      " [ 1.  1.  0.]]\n",
      "[[-1.  0.  0.]\n",
      " [-1.  0.  0.]\n",
      " [ 1.  1.  0.]]\n",
      "[[-1.  0.  0.]\n",
      " [-1.  0.  1.]\n",
      " [ 1.  1.  0.]]\n",
      "[[-1.  0.  0.]\n",
      " [-1. -1.  1.]\n",
      " [ 1.  1.  0.]]\n",
      "[[-1.  1.  0.]\n",
      " [-1. -1.  1.]\n",
      " [ 1.  1.  0.]]\n",
      "[[-1.  1. -1.]\n",
      " [-1. -1.  1.]\n",
      " [ 1.  1.  0.]]\n",
      "[[-1.  1. -1.]\n",
      " [-1. -1.  1.]\n",
      " [ 1.  1.  0.]]\n",
      "Its a draw\n"
     ]
    }
   ],
   "source": [
    "a = np.zeros([3,3])\n",
    "flg=True\n",
    "stategy = random.sample(range(8), 8)\n",
    "c = 0\n",
    "\n",
    "for k in stategy:\n",
    "    \n",
    "    index = stategy[k]\n",
    "    i=index//3\n",
    "    j=index%3\n",
    "    if flg:        \n",
    "            a[i,j] =1\n",
    "\n",
    "            if ((a[i,:].sum() == 3) | (a[:,j].sum() == 3) | (np.trace(a) ==3)):\n",
    "                print ('First wins')\n",
    "                print(a)\n",
    "                break\n",
    "            print(a)    \n",
    "            flg=False\n",
    "            c=c+1\n",
    "                                    \n",
    "    else:\n",
    "        a[i,j] =-1\n",
    "\n",
    "        if ((a[i,:].sum() == -3) | (a[:,j].sum() == -3) | (np.trace(a) ==-3)):\n",
    "                print ('Second wins')\n",
    "                print(a)\n",
    "                break\n",
    "        print(a)    \n",
    "        flg=True\n",
    "        c=c+1\n",
    "      \n",
    "    if c==8:\n",
    "        print(a)\n",
    "        print ('Its a draw')\n"
   ]
  }
 ],
 "metadata": {
  "kernelspec": {
   "display_name": "Python 3",
   "language": "python",
   "name": "python3"
  },
  "language_info": {
   "codemirror_mode": {
    "name": "ipython",
    "version": 3
   },
   "file_extension": ".py",
   "mimetype": "text/x-python",
   "name": "python",
   "nbconvert_exporter": "python",
   "pygments_lexer": "ipython3",
   "version": "3.8.5"
  }
 },
 "nbformat": 4,
 "nbformat_minor": 4
}
